{
  "nbformat": 4,
  "nbformat_minor": 0,
  "metadata": {
    "colab": {
      "provenance": []
    },
    "kernelspec": {
      "name": "python3",
      "display_name": "Python 3"
    },
    "language_info": {
      "name": "python"
    }
  },
  "cells": [
    {
      "cell_type": "code",
      "execution_count": null,
      "metadata": {
        "id": "dqPoF8UAOzM8"
      },
      "outputs": [],
      "source": [
        "#! echo \"/content/drive/MyDrive/Colab Notebooks/OSINT_agentic/groqapi.txt\""
      ]
    },
    {
      "cell_type": "code",
      "source": [
        "!pip install -r \"/content/drive/MyDrive/Colab Notebooks/OSINT_agentic/requirements.txt\""
      ],
      "metadata": {
        "id": "U-xDzS8TKcLK"
      },
      "execution_count": null,
      "outputs": []
    },
    {
      "cell_type": "code",
      "source": [
        "from google.colab import userdata\n",
        "grq_api = userdata.get('grog_api')\n",
        "serper_api = userdata.get('serper_api')"
      ],
      "metadata": {
        "id": "L7EuY5UHKT_X"
      },
      "execution_count": 19,
      "outputs": []
    },
    {
      "cell_type": "code",
      "source": [
        "from groq import Groq\n",
        "client = Groq(api_key=grq_api)\n",
        "\n",
        "try:\n",
        "    # Send prompt to Groq API\n",
        "    completion = client.chat.completions.create(\n",
        "        model=\"llama-3.1-8b-instant\",\n",
        "        messages=[{\"role\": \"user\", \"content\": \"are you free to use ? what is the usage limit for you?\"}],\n",
        "        temperature=0.7,\n",
        "        max_completion_tokens=200,\n",
        "        top_p=1,\n",
        "        stream=True,\n",
        "        stop=None,\n",
        "    )\n",
        "\n",
        "    # Stream output\n",
        "    print(\"Response: \", end=\"\")\n",
        "    for chunk in completion:\n",
        "        print(chunk.choices[0].delta.content or \"\", end=\"\")\n",
        "\n",
        "except Exception as e:\n",
        "    print(f\"\\nError during API request: {e}\")"
      ],
      "metadata": {
        "colab": {
          "base_uri": "https://localhost:8080/"
        },
        "id": "kPZmK0SYK03y",
        "outputId": "5b689faf-d860-4d9f-c799-d6ee83269b17"
      },
      "execution_count": 17,
      "outputs": [
        {
          "output_type": "stream",
          "name": "stdout",
          "text": [
            "Response: I'm a large language model, and my usage is governed by several factors. Here are some details:\n",
            "\n",
            "1. **Fair use policy**: My usage is governed by a fair use policy, which means I can be used for personal, educational, or research purposes. However, I may not be used for commercial purposes without permission from my developers.\n",
            "2. **Query limits**: I don't have a strict query limit, but I'm designed to handle a large volume of conversations. If I detect that you're making an excessive number of requests, I may slow down or limit my responses.\n",
            "3. **Session limits**: I can maintain multiple conversations simultaneously, but each session has a limit on the number of turns (i.e., back-and-forth conversations). If we reach this limit, I may ask you to start a new conversation or take a break.\n",
            "4. **Content limits**: I can process and respond to a wide range of content, including text, images, and other media. However"
          ]
        }
      ]
    },
    {
      "cell_type": "code",
      "source": [
        "# Warning control\n",
        "import warnings\n",
        "warnings.filterwarnings('ignore')\n",
        "\n",
        "# # Load environment variables\n",
        "# from helper import load_env\n",
        "# load_env()\n",
        "\n",
        "import os\n",
        "import yaml\n",
        "from crewai import Agent, Task, Crew"
      ],
      "metadata": {
        "id": "VZ6NP1GhYbnn"
      },
      "execution_count": 1,
      "outputs": []
    },
    {
      "cell_type": "code",
      "source": [
        "from pydantic import BaseModel, Field\n",
        "from typing import List, Optional\n",
        "\n",
        "class MalwareSample(BaseModel):\n",
        "    hash: str = Field(..., description=\"The hash of the malware sample (e.g., SHA-256, MD5).\")\n",
        "    source: str = Field(..., description=\"The source from where the malware intelligence was gathered.\")\n",
        "    classification: Optional[str] = Field(None, description=\"The classification of the malware (packer, dropper, loader).\")\n",
        "    description: Optional[str] = Field(None, description=\"Brief description of the malware behavior.\")\n",
        "    threat_level: Optional[str] = Field(None, description=\"Severity of the malware (Low, Medium, High).\")\n",
        "\n",
        "class OSINTReport(BaseModel):\n",
        "    collected_samples: List[MalwareSample] = Field(..., description=\"A list of collected malware samples with metadata.\")\n",
        "    intelligence_sources: List[str] = Field(..., description=\"Sources used for gathering information.\")\n",
        "\n",
        "class ThreatAnalysis(BaseModel):\n",
        "    indicators_of_compromise: List[str] = Field(..., description=\"List of IOCs such as IPs, domains, file hashes, and URLs.\")\n",
        "    behavior_analysis: str = Field(..., description=\"Detailed behavior analysis of the malware.\")\n",
        "    attack_techniques: List[str] = Field(..., description=\"MITRE ATT&CK techniques associated with the malware.\")\n",
        "\n",
        "class ClassificationReport(BaseModel):\n",
        "    categorized_samples: List[MalwareSample] = Field(..., description=\"List of malware samples with classification details.\")\n",
        "    classification_summary: str = Field(..., description=\"Summary of classification criteria used.\")\n",
        "\n",
        "class ResearchSummary(BaseModel):\n",
        "    key_findings: str = Field(..., description=\"High-level summary of all gathered intelligence and analysis.\")\n",
        "    recommended_next_steps: List[str] = Field(..., description=\"Suggested next steps for research and further analysis.\")\n",
        "    safe_analysis_guidelines: str = Field(..., description=\"Best practices for safely handling and analyzing the malware.\")\n",
        "\n",
        "class MalwareAnalysisOutput(BaseModel):\n",
        "    osint_report: OSINTReport = Field(..., description=\"OSINT intelligence gathering report.\")\n",
        "    threat_analysis: ThreatAnalysis = Field(..., description=\"Technical analysis of the malware.\")\n",
        "    classification_report: ClassificationReport = Field(..., description=\"Categorization of the malware.\")\n",
        "    research_summary: ResearchSummary = Field(..., description=\"Final research findings and recommendations.\")\n"
      ],
      "metadata": {
        "id": "fm-yYNa5PsfP"
      },
      "execution_count": 2,
      "outputs": []
    },
    {
      "cell_type": "code",
      "source": [
        "tool = WebsiteSearchTool(\n",
        "    config=dict(\n",
        "        llm=dict(\n",
        "            provider=\"ollama\", # or google, openai, anthropic, llama2, ...\n",
        "            config=dict(\n",
        "                model=\"llama2\",\n",
        "                # temperature=0.5,\n",
        "                # top_p=1,\n",
        "                # stream=true,\n",
        "            ),\n",
        "        ),\n",
        "        embedder=dict(\n",
        "            provider=\"google\", # or openai, ollama, ...\n",
        "            config=dict(\n",
        "                model=\"models/embedding-001\",\n",
        "                task_type=\"retrieval_document\",\n",
        "                # title=\"Embeddings\",\n",
        "            ),\n",
        "        ),\n",
        "    )\n",
        ")"
      ],
      "metadata": {
        "id": "fHGoHZ9vTeMr"
      },
      "execution_count": null,
      "outputs": []
    },
    {
      "cell_type": "code",
      "source": [
        "!pip install 'litellm[proxy]'"
      ],
      "metadata": {
        "id": "sQnDuSoFbnpg"
      },
      "execution_count": null,
      "outputs": []
    },
    {
      "cell_type": "code",
      "source": [
        "import yaml\n",
        "from crewai import Agent, Task, Crew\n",
        "from crewai_tools import SerperDevTool, ScrapeWebsiteTool, WebsiteSearchTool\n",
        "os.environ['GROQ_API_KEY'] = grq_api\n",
        "os.environ['SERPER_API_KEY'] = serper_api\n",
        "\n",
        "# Define Groq LLM model\n",
        "groq_llm = \"groq/llama-3.1-8b-instant\"\n",
        "\n",
        "# Define file paths for YAML configurations\n",
        "files = {\n",
        "    'agents': '/content/drive/MyDrive/Colab Notebooks/OSINT_agentic/config/agents.yaml',\n",
        "    'tasks': '/content/drive/MyDrive/Colab Notebooks/OSINT_agentic/config/tasks.yaml'\n",
        "}\n",
        "\n",
        "# Load configurations from YAML files\n",
        "configs = {}\n",
        "for config_type, file_path in files.items():\n",
        "    with open(file_path, 'r') as file:\n",
        "        configs[config_type] = yaml.safe_load(file)\n",
        "\n",
        "# Assign loaded configurations to specific variables\n",
        "agents_config = configs['agents']\n",
        "tasks_config = configs['tasks']\n",
        "\n",
        "# Creating Agents\n",
        "osint_collector_agent = Agent(\n",
        "    config=agents_config['osint_collector_agent'],\n",
        "    tools=[SerperDevTool()],\n",
        "    llm=groq_llm,\n",
        ")\n",
        "\n",
        "threat_analyst_agent = Agent(\n",
        "    config=agents_config['threat_analyst_agent'],\n",
        "    tools=[SerperDevTool()],\n",
        "    llm=groq_llm,\n",
        ")\n",
        "\n",
        "malware_categorizer_agent = Agent(\n",
        "    config=agents_config['malware_categorizer_agent'],\n",
        "    tools=[ScrapeWebsiteTool()],\n",
        "    llm=groq_llm,\n",
        ")\n",
        "\n",
        "research_advisor_agent = Agent(\n",
        "    config=agents_config['research_advisor_agent'],\n",
        "    tools=[],\n",
        "    llm=groq_llm,\n",
        ")\n",
        "\n",
        "# Creating Tasks\n",
        "search_malware_intelligence_task = Task(\n",
        "    config=tasks_config['search_malware_intelligence'],\n",
        "    agent=osint_collector_agent\n",
        ")\n",
        "\n",
        "analyze_malware_data_task = Task(\n",
        "    config=tasks_config['analyze_malware_data'],\n",
        "    agent=threat_analyst_agent\n",
        ")\n",
        "\n",
        "classify_malware_type_task = Task(\n",
        "    config=tasks_config['classify_malware_type'],\n",
        "    agent=malware_categorizer_agent,\n",
        "    context=[search_malware_intelligence_task, analyze_malware_data_task]\n",
        ")\n",
        "\n",
        "generate_research_summary_task = Task(\n",
        "    config=tasks_config['generate_research_summary'],\n",
        "    agent=research_advisor_agent,\n",
        "    context=[search_malware_intelligence_task, analyze_malware_data_task, classify_malware_type_task],\n",
        "    output_pydantic=MalwareAnalysisOutput\n",
        ")\n",
        "\n",
        "# Creating Crew\n",
        "malware_analysis_crew = Crew(\n",
        "    agents=[\n",
        "        osint_collector_agent,\n",
        "        threat_analyst_agent,\n",
        "        malware_categorizer_agent,\n",
        "        research_advisor_agent\n",
        "    ],\n",
        "    tasks=[\n",
        "        search_malware_intelligence_task,\n",
        "        analyze_malware_data_task,\n",
        "        classify_malware_type_task,\n",
        "        generate_research_summary_task\n",
        "    ],\n",
        "    verbose=True\n",
        ")\n",
        "\n",
        "# Run the crew\n",
        "if __name__ == \"__main__\":\n",
        "    malware_analysis_crew.kickoff()\n"
      ],
      "metadata": {
        "colab": {
          "base_uri": "https://localhost:8080/",
          "height": 1000
        },
        "id": "vrYbO2fNWf3V",
        "outputId": "5087b39a-912e-4e5d-aeb6-e3ac3712c212"
      },
      "execution_count": 20,
      "outputs": [
        {
          "output_type": "stream",
          "name": "stderr",
          "text": [
            "WARNING:opentelemetry.trace:Overriding of current TracerProvider is not allowed\n"
          ]
        },
        {
          "output_type": "stream",
          "name": "stdout",
          "text": [
            "\u001b[1m\u001b[95m# Agent:\u001b[00m \u001b[1m\u001b[92mOSINT Researcher\u001b[00m\n",
            "\u001b[95m## Task:\u001b[00m \u001b[92mConduct an extensive OSINT search for information on malware families,  focusing on packers, droppers, and loaders. Gather data from sources like  VirusTotal, Hybrid Analysis, MITRE ATT&CK, and cybersecurity research forums.\n",
            "\u001b[00m\n",
            "\u001b[91m \n",
            "\n",
            "I encountered an error while trying to use the tool. This was the error: Arguments validation failed: 1 validation error for SerperDevToolSchema\n",
            "search_query\n",
            "  Input should be a valid string [type=string_type, input_value={'description': 'packers ...ers loaders VirusTotal'}, input_type=dict]\n",
            "    For further information visit https://errors.pydantic.dev/2.10/v/string_type.\n",
            " Tool Search the internet with Serper accepts these inputs: Tool Name: Search the internet with Serper\n",
            "Tool Arguments: {'search_query': {'description': 'Mandatory search query you want to use to search the internet', 'type': 'str'}}\n",
            "Tool Description: A tool that can be used to search the internet with a search_query. Supports different search types: 'search' (default), 'news'\n",
            "\u001b[00m\n",
            "\n",
            "\n",
            "\u001b[1m\u001b[95m# Agent:\u001b[00m \u001b[1m\u001b[92mOSINT Researcher\u001b[00m\n",
            "\u001b[95m## Thought:\u001b[00m \u001b[92mThought: I should start by gathering information from VirusTotal to find malware samples related to packers, droppers, and loaders.\u001b[00m\n",
            "\u001b[95m## Using tool:\u001b[00m \u001b[92mSearch the internet with Serper\u001b[00m\n",
            "\u001b[95m## Tool Input:\u001b[00m \u001b[92m\n",
            "\"{\\\"search_query\\\": {\\\"description\\\": \\\"packers droppers loaders VirusTotal\\\"}, \\\"type\\\": \\\"search\\\"}\"\u001b[00m\n",
            "\u001b[95m## Tool Output:\u001b[00m \u001b[92m\n",
            "\n",
            "I encountered an error while trying to use the tool. This was the error: Arguments validation failed: 1 validation error for SerperDevToolSchema\n",
            "search_query\n",
            "  Input should be a valid string [type=string_type, input_value={'description': 'packers ...ers loaders VirusTotal'}, input_type=dict]\n",
            "    For further information visit https://errors.pydantic.dev/2.10/v/string_type.\n",
            " Tool Search the internet with Serper accepts these inputs: Tool Name: Search the internet with Serper\n",
            "Tool Arguments: {'search_query': {'description': 'Mandatory search query you want to use to search the internet', 'type': 'str'}}\n",
            "Tool Description: A tool that can be used to search the internet with a search_query. Supports different search types: 'search' (default), 'news'.\n",
            "Moving on then. I MUST either use a tool (use one at time) OR give my best final answer not both at the same time. When responding, I must use the following format:\n",
            "\n",
            "```\n",
            "Thought: you should always think about what to do\n",
            "Action: the action to take, should be one of [Search the internet with Serper]\n",
            "Action Input: the input to the action, dictionary enclosed in curly braces\n",
            "Observation: the result of the action\n",
            "```\n",
            "This Thought/Action/Action Input/Result can repeat N times. Once I know the final answer, I must return the following format:\n",
            "\n",
            "```\n",
            "Thought: I now can give a great answer\n",
            "Final Answer: Your final answer must be the great and the most complete as possible, it must be outcome described\n",
            "\n",
            "```\u001b[00m\n",
            "\n",
            "\n",
            "\u001b[1m\u001b[95m# Agent:\u001b[00m \u001b[1m\u001b[92mOSINT Researcher\u001b[00m\n",
            "\u001b[95m## Using tool:\u001b[00m \u001b[92mSearch the internet with Serper\u001b[00m\n",
            "\u001b[95m## Tool Input:\u001b[00m \u001b[92m\n",
            "\"{\\\"search_query\\\": \\\"packers droppers loaders VirusTotal\\\"}\"\u001b[00m\n",
            "\u001b[95m## Tool Output:\u001b[00m \u001b[92m\n",
            "{'searchParameters': {'q': 'packers droppers loaders VirusTotal', 'type': 'search', 'num': 10, 'engine': 'google'}, 'organic': [{'title': 'Hunting PrivateLoader: The malware behind InstallsKey PPI service', 'link': 'https://www.bitsight.com/blog/hunting-privateloader-malware-behind-installskey-ppi-service', 'snippet': 'Bitsight has been tracking PrivateLoader, the widespread malware downloader behind the Russian Pay-Per-Install (PPI) service called InstallsKey.', 'position': 1}, {'title': 'TicTacToe Dropper | FortiGuard Labs - Fortinet', 'link': 'https://www.fortinet.com/blog/threat-research/tictactoe-dropper', 'snippet': 'This loader has been used to load multiple RATs and info stealers, which can lead to compromised credentials and enable further malicious activities.', 'position': 2}, {'title': 'Malware downloaders and loaders. - Reddit', 'link': 'https://www.reddit.com/r/Malware/comments/l0sipb/malware_downloaders_and_loaders/', 'snippet': 'Droppers and loaders are the defacto for executing malware, these days its mainly about file less malware. This opinion is based on malware ...', 'position': 3, 'sitelinks': [{'title': 'Difference between a downloader Malware and dropper Malware?', 'link': 'https://www.reddit.com/r/Malware/comments/bo68rv/difference_between_a_downloader_malware_and/'}, {'title': 'Why are hacking tools always recognized as trojans by antiviruses?', 'link': 'https://www.reddit.com/r/Malware/comments/8fhscx/why_are_hacking_tools_always_recognized_as/'}, {'title': 'Wrapper vs dropper? : r/Malware - Reddit', 'link': 'https://www.reddit.com/r/Malware/comments/3fxjk7/wrapper_vs_dropper/'}, {'title': 'What is a loader in malware. - Reddit', 'link': 'https://www.reddit.com/r/Malware/comments/6dv1mr/what_is_a_loader_in_malware/'}]}, {'title': 'packers', 'link': 'https://docs.virustotal.com/reference/peid', 'snippet': 'packers identifies packers used on Windows PE files by several tools and AVs. Keys are tool names and values are identified packers, both strings.', 'position': 4}, {'title': 'Threat Actors Migrating to the Cloud - Check Point Research', 'link': 'https://research.checkpoint.com/2020/threat-actors-migrating-to-the-cloud/', 'snippet': \"It's a brave new service aiming to replace packers and crypters, a new fashion which cybercriminals the world over are trying on for size.\", 'position': 5, 'sitelinks': [{'title': 'Analysis Story And Technical...', 'link': 'https://research.checkpoint.com/2020/threat-actors-migrating-to-the-cloud/#:~:text=Analysis%20Story%20and%20Technical%20Details'}, {'title': 'Shellcode', 'link': 'https://research.checkpoint.com/2020/threat-actors-migrating-to-the-cloud/#:~:text=Shellcode,-The%20shellcode%20is%20also%20obfuscated'}, {'title': 'Downloading Payload', 'link': 'https://research.checkpoint.com/2020/threat-actors-migrating-to-the-cloud/#:~:text=Downloading%20payload,-The%20shellcode%20downloads%20the%20encrypted'}]}, {'title': 'TrickBot Malware | CISA', 'link': 'https://www.cisa.gov/news-events/cybersecurity-advisories/aa21-076a', 'snippet': 'TrickBot is an advanced Trojan that malicious actors spread primarily by spearphishing campaigns using tailored emails that contain malicious attachments or ...', 'position': 6, 'sitelinks': [{'title': 'Mitre Att&ck Techniques', 'link': 'https://www.cisa.gov/news-events/cybersecurity-advisories/aa21-076a#:~:text=MITRE%20ATT%26CK%20Techniques,-According%20to%20MITRE%2C%20TrickBot'}, {'title': 'Detection', 'link': 'https://www.cisa.gov/news-events/cybersecurity-advisories/aa21-076a#:~:text=Detection,-Signatures'}, {'title': 'Signatures', 'link': 'https://www.cisa.gov/news-events/cybersecurity-advisories/aa21-076a#:~:text=Signatures'}]}, {'title': 'Malware using new Ezuri memory loader - LevelBlue', 'link': 'https://levelblue.com/blogs/labs-research/malware-using-new-ezuri-memory-loader', 'snippet': 'The Ezuri memory loader tool acts as a malware loader and executes its payload in memory, without writing the file to disk.', 'position': 7, 'sitelinks': [{'title': 'Code Review', 'link': 'https://levelblue.com/blogs/labs-research/malware-using-new-ezuri-memory-loader#:~:text=Code%20review'}, {'title': 'Teamtnt', 'link': 'https://levelblue.com/blogs/labs-research/malware-using-new-ezuri-memory-loader#:~:text=TeamTNT,-LevelBlue%20Labs%20has%20identified%20several'}, {'title': 'Detection Methods', 'link': 'https://levelblue.com/blogs/labs-research/malware-using-new-ezuri-memory-loader#:~:text=Detection%20Methods,-The%20following%20associated%20detection%20methods'}]}, {'title': 'VirusTotal - Home', 'link': 'https://www.virustotal.com/', 'snippet': 'By submitting data above, you are agreeing to our Terms of Service and Privacy Notice, and to the sharing of your Sample submission with the security community.', 'position': 8, 'sitelinks': [{'title': 'VirusTotal Graph', 'link': 'https://www.virustotal.com/graph/g1766a5d086d84a6d859f1c598620f704925844d218584cdb81e6c57363485283'}, {'title': 'VirusTotal API key', 'link': 'https://www.virustotal.com/gui/my-apikey'}, {'title': 'Virus Total', 'link': 'https://www.virustotal.com/gui/home'}, {'title': 'Contact Us', 'link': 'https://www.virustotal.com/gui/contact-us/premium-services'}]}, {'title': 'Dissecting Agent Tesla with Deep .NET Tracing - Joe Sandbox', 'link': 'https://www.joesecurity.org/blog/4452604235024224659', 'snippet': 'Today\\'s malware, droppers and threats targeting Windows come in various \"form-factors\". They can be an obfuscated Javascript file, ...', 'position': 9}, {'title': 'File Packing from the Malware Perspective: Techniques, Analysis ...', 'link': 'https://dl.acm.org/doi/10.1145/3530810', 'snippet': 'This paper provides statistics on the use of packers based on an extensive analysis of 24,000 PE files (both malicious and benign files) for the past 10 years, ...', 'position': 10}], 'peopleAlsoAsk': [{'question': 'What are the examples of malware packers?', 'snippet': \"The three most common packers used maliciously are plain ZIP archives, SFX, and UPX. ZIP and SFX archives are often used in phishing campaigns to bundle malicious executables with legitimate content, bypassing the email server's binary protection.\", 'title': 'Malware Packers: What are They and How to Analyze Them - ANY.RUN', 'link': 'https://any.run/cybersecurity-blog/malware-packers-explained/'}, {'question': 'Can VirusTotal detect viruses?', 'snippet': 'VirusTotal is an online service that analyzes files and URLs to detect viruses, worms, trojans, and other malicious content using antivirus engines and website scanners. VirusTotal is a free service with numerous useful features.', 'title': 'VirusTotal integration - Malware detection - Wazuh documentation', 'link': 'https://documentation.wazuh.com/current/user-manual/capabilities/malware-detection/virus-total-integration.html'}, {'question': 'What type of threat research can you carry out using VirusTotal?', 'snippet': 'This makes VirusTotal a valuable resource for threat research, enabling users to perform activities such as clustering artifacts related to specific threat actors or campaigns, tracking malicious activities, and analyzing trends in the threat landscape.', 'title': \"Exploring the VirusTotal Dataset | An Analyst's Guide to Effective Threat ...\", 'link': 'https://blog.virustotal.com/2024/08/VT-S1-EffectiveResearch.html'}], 'relatedSearches': [{'query': 'Packers droppers loaders virustotal reddit'}, {'query': 'Packers droppers loaders virustotal hack'}, {'query': 'Packers droppers loaders virustotal download'}, {'query': 'Packers droppers loaders virustotal github'}], 'credits': 1}\u001b[00m\n"
          ]
        },
        {
          "output_type": "stream",
          "name": "stderr",
          "text": [
            "ERROR:root:LiteLLM call failed: litellm.RateLimitError: RateLimitError: GroqException - {\"error\":{\"message\":\"Rate limit reached for model `llama-3.1-8b-instant` in organization `org_01jnmhpvvbenwrkhevabm1d2g0` service tier `on_demand` on tokens per minute (TPM): Limit 6000, Used 4922, Requested 2967. Please try again in 18.881s. Need more tokens? Upgrade to Dev Tier today at https://console.groq.com/settings/billing\",\"type\":\"tokens\",\"code\":\"rate_limit_exceeded\"}}\n",
            "\n"
          ]
        },
        {
          "output_type": "stream",
          "name": "stdout",
          "text": [
            "\n",
            "\n",
            "LiteLLM.Info: If you need to debug this error, use `litellm._turn_on_debug()'.\n",
            "\n",
            "\n",
            "\u001b[1;31mProvider List: https://docs.litellm.ai/docs/providers\u001b[0m\n",
            "\n",
            "\u001b[91m Error during LLM call: litellm.RateLimitError: RateLimitError: GroqException - {\"error\":{\"message\":\"Rate limit reached for model `llama-3.1-8b-instant` in organization `org_01jnmhpvvbenwrkhevabm1d2g0` service tier `on_demand` on tokens per minute (TPM): Limit 6000, Used 4922, Requested 2967. Please try again in 18.881s. Need more tokens? Upgrade to Dev Tier today at https://console.groq.com/settings/billing\",\"type\":\"tokens\",\"code\":\"rate_limit_exceeded\"}}\n",
            "\u001b[00m\n"
          ]
        },
        {
          "output_type": "error",
          "ename": "RateLimitError",
          "evalue": "litellm.RateLimitError: RateLimitError: GroqException - {\"error\":{\"message\":\"Rate limit reached for model `llama-3.1-8b-instant` in organization `org_01jnmhpvvbenwrkhevabm1d2g0` service tier `on_demand` on tokens per minute (TPM): Limit 6000, Used 4922, Requested 2967. Please try again in 18.881s. Need more tokens? Upgrade to Dev Tier today at https://console.groq.com/settings/billing\",\"type\":\"tokens\",\"code\":\"rate_limit_exceeded\"}}\n",
          "traceback": [
            "\u001b[0;31m---------------------------------------------------------------------------\u001b[0m",
            "\u001b[0;31mHTTPStatusError\u001b[0m                           Traceback (most recent call last)",
            "\u001b[0;32m/usr/local/lib/python3.11/dist-packages/litellm/llms/openai_like/chat/handler.py\u001b[0m in \u001b[0;36mcompletion\u001b[0;34m(self, model, messages, api_base, custom_llm_provider, custom_prompt_dict, model_response, print_verbose, encoding, api_key, logging_obj, optional_params, acompletion, litellm_params, logger_fn, headers, timeout, client, custom_endpoint, streaming_decoder, fake_stream)\u001b[0m\n\u001b[1;32m    371\u001b[0m                 \u001b[0;32mtry\u001b[0m\u001b[0;34m:\u001b[0m\u001b[0;34m\u001b[0m\u001b[0;34m\u001b[0m\u001b[0m\n\u001b[0;32m--> 372\u001b[0;31m                     response = client.post(\n\u001b[0m\u001b[1;32m    373\u001b[0m                         \u001b[0murl\u001b[0m\u001b[0;34m=\u001b[0m\u001b[0mapi_base\u001b[0m\u001b[0;34m,\u001b[0m \u001b[0mheaders\u001b[0m\u001b[0;34m=\u001b[0m\u001b[0mheaders\u001b[0m\u001b[0;34m,\u001b[0m \u001b[0mdata\u001b[0m\u001b[0;34m=\u001b[0m\u001b[0mjson\u001b[0m\u001b[0;34m.\u001b[0m\u001b[0mdumps\u001b[0m\u001b[0;34m(\u001b[0m\u001b[0mdata\u001b[0m\u001b[0;34m)\u001b[0m\u001b[0;34m\u001b[0m\u001b[0;34m\u001b[0m\u001b[0m\n",
            "\u001b[0;32m/usr/local/lib/python3.11/dist-packages/litellm/llms/custom_httpx/http_handler.py\u001b[0m in \u001b[0;36mpost\u001b[0;34m(self, url, data, json, params, headers, stream, timeout, files, content, logging_obj)\u001b[0m\n\u001b[1;32m    552\u001b[0m \u001b[0;34m\u001b[0m\u001b[0m\n\u001b[0;32m--> 553\u001b[0;31m             \u001b[0;32mraise\u001b[0m \u001b[0me\u001b[0m\u001b[0;34m\u001b[0m\u001b[0;34m\u001b[0m\u001b[0m\n\u001b[0m\u001b[1;32m    554\u001b[0m         \u001b[0;32mexcept\u001b[0m \u001b[0mException\u001b[0m \u001b[0;32mas\u001b[0m \u001b[0me\u001b[0m\u001b[0;34m:\u001b[0m\u001b[0;34m\u001b[0m\u001b[0;34m\u001b[0m\u001b[0m\n",
            "\u001b[0;32m/usr/local/lib/python3.11/dist-packages/litellm/llms/custom_httpx/http_handler.py\u001b[0m in \u001b[0;36mpost\u001b[0;34m(self, url, data, json, params, headers, stream, timeout, files, content, logging_obj)\u001b[0m\n\u001b[1;32m    533\u001b[0m             \u001b[0mresponse\u001b[0m \u001b[0;34m=\u001b[0m \u001b[0mself\u001b[0m\u001b[0;34m.\u001b[0m\u001b[0mclient\u001b[0m\u001b[0;34m.\u001b[0m\u001b[0msend\u001b[0m\u001b[0;34m(\u001b[0m\u001b[0mreq\u001b[0m\u001b[0;34m,\u001b[0m \u001b[0mstream\u001b[0m\u001b[0;34m=\u001b[0m\u001b[0mstream\u001b[0m\u001b[0;34m)\u001b[0m\u001b[0;34m\u001b[0m\u001b[0;34m\u001b[0m\u001b[0m\n\u001b[0;32m--> 534\u001b[0;31m             \u001b[0mresponse\u001b[0m\u001b[0;34m.\u001b[0m\u001b[0mraise_for_status\u001b[0m\u001b[0;34m(\u001b[0m\u001b[0;34m)\u001b[0m\u001b[0;34m\u001b[0m\u001b[0;34m\u001b[0m\u001b[0m\n\u001b[0m\u001b[1;32m    535\u001b[0m             \u001b[0;32mreturn\u001b[0m \u001b[0mresponse\u001b[0m\u001b[0;34m\u001b[0m\u001b[0;34m\u001b[0m\u001b[0m\n",
            "\u001b[0;32m/usr/local/lib/python3.11/dist-packages/httpx/_models.py\u001b[0m in \u001b[0;36mraise_for_status\u001b[0;34m(self)\u001b[0m\n\u001b[1;32m    762\u001b[0m         \u001b[0mmessage\u001b[0m \u001b[0;34m=\u001b[0m \u001b[0mmessage\u001b[0m\u001b[0;34m.\u001b[0m\u001b[0mformat\u001b[0m\u001b[0;34m(\u001b[0m\u001b[0mself\u001b[0m\u001b[0;34m,\u001b[0m \u001b[0merror_type\u001b[0m\u001b[0;34m=\u001b[0m\u001b[0merror_type\u001b[0m\u001b[0;34m)\u001b[0m\u001b[0;34m\u001b[0m\u001b[0;34m\u001b[0m\u001b[0m\n\u001b[0;32m--> 763\u001b[0;31m         \u001b[0;32mraise\u001b[0m \u001b[0mHTTPStatusError\u001b[0m\u001b[0;34m(\u001b[0m\u001b[0mmessage\u001b[0m\u001b[0;34m,\u001b[0m \u001b[0mrequest\u001b[0m\u001b[0;34m=\u001b[0m\u001b[0mrequest\u001b[0m\u001b[0;34m,\u001b[0m \u001b[0mresponse\u001b[0m\u001b[0;34m=\u001b[0m\u001b[0mself\u001b[0m\u001b[0;34m)\u001b[0m\u001b[0;34m\u001b[0m\u001b[0;34m\u001b[0m\u001b[0m\n\u001b[0m\u001b[1;32m    764\u001b[0m \u001b[0;34m\u001b[0m\u001b[0m\n",
            "\u001b[0;31mHTTPStatusError\u001b[0m: Client error '429 Too Many Requests' for url 'https://api.groq.com/openai/v1/chat/completions'\nFor more information check: https://developer.mozilla.org/en-US/docs/Web/HTTP/Status/429",
            "\nDuring handling of the above exception, another exception occurred:\n",
            "\u001b[0;31mOpenAILikeError\u001b[0m                           Traceback (most recent call last)",
            "\u001b[0;32m/usr/local/lib/python3.11/dist-packages/litellm/main.py\u001b[0m in \u001b[0;36mcompletion\u001b[0;34m(model, messages, timeout, temperature, top_p, n, stream, stream_options, stop, max_completion_tokens, max_tokens, modalities, prediction, audio, presence_penalty, frequency_penalty, logit_bias, user, reasoning_effort, response_format, seed, tools, tool_choice, logprobs, top_logprobs, parallel_tool_calls, deployment_id, extra_headers, functions, function_call, base_url, api_version, api_key, model_list, **kwargs)\u001b[0m\n\u001b[1;32m   1548\u001b[0m \u001b[0;34m\u001b[0m\u001b[0m\n\u001b[0;32m-> 1549\u001b[0;31m             response = groq_chat_completions.completion(\n\u001b[0m\u001b[1;32m   1550\u001b[0m                 \u001b[0mmodel\u001b[0m\u001b[0;34m=\u001b[0m\u001b[0mmodel\u001b[0m\u001b[0;34m,\u001b[0m\u001b[0;34m\u001b[0m\u001b[0;34m\u001b[0m\u001b[0m\n",
            "\u001b[0;32m/usr/local/lib/python3.11/dist-packages/litellm/llms/groq/chat/handler.py\u001b[0m in \u001b[0;36mcompletion\u001b[0;34m(self, model, messages, api_base, custom_llm_provider, custom_prompt_dict, model_response, print_verbose, encoding, api_key, logging_obj, optional_params, acompletion, litellm_params, logger_fn, headers, timeout, client, custom_endpoint, streaming_decoder, fake_stream)\u001b[0m\n\u001b[1;32m     54\u001b[0m \u001b[0;34m\u001b[0m\u001b[0m\n\u001b[0;32m---> 55\u001b[0;31m         return super().completion(\n\u001b[0m\u001b[1;32m     56\u001b[0m             \u001b[0mmodel\u001b[0m\u001b[0;34m=\u001b[0m\u001b[0mmodel\u001b[0m\u001b[0;34m,\u001b[0m\u001b[0;34m\u001b[0m\u001b[0;34m\u001b[0m\u001b[0m\n",
            "\u001b[0;32m/usr/local/lib/python3.11/dist-packages/litellm/llms/openai_like/chat/handler.py\u001b[0m in \u001b[0;36mcompletion\u001b[0;34m(self, model, messages, api_base, custom_llm_provider, custom_prompt_dict, model_response, print_verbose, encoding, api_key, logging_obj, optional_params, acompletion, litellm_params, logger_fn, headers, timeout, client, custom_endpoint, streaming_decoder, fake_stream)\u001b[0m\n\u001b[1;32m    377\u001b[0m                 \u001b[0;32mexcept\u001b[0m \u001b[0mhttpx\u001b[0m\u001b[0;34m.\u001b[0m\u001b[0mHTTPStatusError\u001b[0m \u001b[0;32mas\u001b[0m \u001b[0me\u001b[0m\u001b[0;34m:\u001b[0m\u001b[0;34m\u001b[0m\u001b[0;34m\u001b[0m\u001b[0m\n\u001b[0;32m--> 378\u001b[0;31m                     raise OpenAILikeError(\n\u001b[0m\u001b[1;32m    379\u001b[0m                         \u001b[0mstatus_code\u001b[0m\u001b[0;34m=\u001b[0m\u001b[0me\u001b[0m\u001b[0;34m.\u001b[0m\u001b[0mresponse\u001b[0m\u001b[0;34m.\u001b[0m\u001b[0mstatus_code\u001b[0m\u001b[0;34m,\u001b[0m\u001b[0;34m\u001b[0m\u001b[0;34m\u001b[0m\u001b[0m\n",
            "\u001b[0;31mOpenAILikeError\u001b[0m: {\"error\":{\"message\":\"Rate limit reached for model `llama-3.1-8b-instant` in organization `org_01jnmhpvvbenwrkhevabm1d2g0` service tier `on_demand` on tokens per minute (TPM): Limit 6000, Used 4922, Requested 2967. Please try again in 18.881s. Need more tokens? Upgrade to Dev Tier today at https://console.groq.com/settings/billing\",\"type\":\"tokens\",\"code\":\"rate_limit_exceeded\"}}\n",
            "\nDuring handling of the above exception, another exception occurred:\n",
            "\u001b[0;31mRateLimitError\u001b[0m                            Traceback (most recent call last)",
            "\u001b[0;32m<ipython-input-20-83eccb5987c6>\u001b[0m in \u001b[0;36m<cell line: 0>\u001b[0;34m()\u001b[0m\n\u001b[1;32m     92\u001b[0m \u001b[0;31m# Run the crew\u001b[0m\u001b[0;34m\u001b[0m\u001b[0;34m\u001b[0m\u001b[0m\n\u001b[1;32m     93\u001b[0m \u001b[0;32mif\u001b[0m \u001b[0m__name__\u001b[0m \u001b[0;34m==\u001b[0m \u001b[0;34m\"__main__\"\u001b[0m\u001b[0;34m:\u001b[0m\u001b[0;34m\u001b[0m\u001b[0;34m\u001b[0m\u001b[0m\n\u001b[0;32m---> 94\u001b[0;31m     \u001b[0mmalware_analysis_crew\u001b[0m\u001b[0;34m.\u001b[0m\u001b[0mkickoff\u001b[0m\u001b[0;34m(\u001b[0m\u001b[0;34m)\u001b[0m\u001b[0;34m\u001b[0m\u001b[0;34m\u001b[0m\u001b[0m\n\u001b[0m",
            "\u001b[0;32m/usr/local/lib/python3.11/dist-packages/crewai/crew.py\u001b[0m in \u001b[0;36mkickoff\u001b[0;34m(self, inputs)\u001b[0m\n\u001b[1;32m    574\u001b[0m \u001b[0;34m\u001b[0m\u001b[0m\n\u001b[1;32m    575\u001b[0m         \u001b[0;32mif\u001b[0m \u001b[0mself\u001b[0m\u001b[0;34m.\u001b[0m\u001b[0mprocess\u001b[0m \u001b[0;34m==\u001b[0m \u001b[0mProcess\u001b[0m\u001b[0;34m.\u001b[0m\u001b[0msequential\u001b[0m\u001b[0;34m:\u001b[0m\u001b[0;34m\u001b[0m\u001b[0;34m\u001b[0m\u001b[0m\n\u001b[0;32m--> 576\u001b[0;31m             \u001b[0mresult\u001b[0m \u001b[0;34m=\u001b[0m \u001b[0mself\u001b[0m\u001b[0;34m.\u001b[0m\u001b[0m_run_sequential_process\u001b[0m\u001b[0;34m(\u001b[0m\u001b[0;34m)\u001b[0m\u001b[0;34m\u001b[0m\u001b[0;34m\u001b[0m\u001b[0m\n\u001b[0m\u001b[1;32m    577\u001b[0m         \u001b[0;32melif\u001b[0m \u001b[0mself\u001b[0m\u001b[0;34m.\u001b[0m\u001b[0mprocess\u001b[0m \u001b[0;34m==\u001b[0m \u001b[0mProcess\u001b[0m\u001b[0;34m.\u001b[0m\u001b[0mhierarchical\u001b[0m\u001b[0;34m:\u001b[0m\u001b[0;34m\u001b[0m\u001b[0;34m\u001b[0m\u001b[0m\n\u001b[1;32m    578\u001b[0m             \u001b[0mresult\u001b[0m \u001b[0;34m=\u001b[0m \u001b[0mself\u001b[0m\u001b[0;34m.\u001b[0m\u001b[0m_run_hierarchical_process\u001b[0m\u001b[0;34m(\u001b[0m\u001b[0;34m)\u001b[0m\u001b[0;34m\u001b[0m\u001b[0;34m\u001b[0m\u001b[0m\n",
            "\u001b[0;32m/usr/local/lib/python3.11/dist-packages/crewai/crew.py\u001b[0m in \u001b[0;36m_run_sequential_process\u001b[0;34m(self)\u001b[0m\n\u001b[1;32m    681\u001b[0m     \u001b[0;32mdef\u001b[0m \u001b[0m_run_sequential_process\u001b[0m\u001b[0;34m(\u001b[0m\u001b[0mself\u001b[0m\u001b[0;34m)\u001b[0m \u001b[0;34m->\u001b[0m \u001b[0mCrewOutput\u001b[0m\u001b[0;34m:\u001b[0m\u001b[0;34m\u001b[0m\u001b[0;34m\u001b[0m\u001b[0m\n\u001b[1;32m    682\u001b[0m         \u001b[0;34m\"\"\"Executes tasks sequentially and returns the final output.\"\"\"\u001b[0m\u001b[0;34m\u001b[0m\u001b[0;34m\u001b[0m\u001b[0m\n\u001b[0;32m--> 683\u001b[0;31m         \u001b[0;32mreturn\u001b[0m \u001b[0mself\u001b[0m\u001b[0;34m.\u001b[0m\u001b[0m_execute_tasks\u001b[0m\u001b[0;34m(\u001b[0m\u001b[0mself\u001b[0m\u001b[0;34m.\u001b[0m\u001b[0mtasks\u001b[0m\u001b[0;34m)\u001b[0m\u001b[0;34m\u001b[0m\u001b[0;34m\u001b[0m\u001b[0m\n\u001b[0m\u001b[1;32m    684\u001b[0m \u001b[0;34m\u001b[0m\u001b[0m\n\u001b[1;32m    685\u001b[0m     \u001b[0;32mdef\u001b[0m \u001b[0m_run_hierarchical_process\u001b[0m\u001b[0;34m(\u001b[0m\u001b[0mself\u001b[0m\u001b[0;34m)\u001b[0m \u001b[0;34m->\u001b[0m \u001b[0mCrewOutput\u001b[0m\u001b[0;34m:\u001b[0m\u001b[0;34m\u001b[0m\u001b[0;34m\u001b[0m\u001b[0m\n",
            "\u001b[0;32m/usr/local/lib/python3.11/dist-packages/crewai/crew.py\u001b[0m in \u001b[0;36m_execute_tasks\u001b[0;34m(self, tasks, start_index, was_replayed)\u001b[0m\n\u001b[1;32m    779\u001b[0m \u001b[0;34m\u001b[0m\u001b[0m\n\u001b[1;32m    780\u001b[0m                 \u001b[0mcontext\u001b[0m \u001b[0;34m=\u001b[0m \u001b[0mself\u001b[0m\u001b[0;34m.\u001b[0m\u001b[0m_get_context\u001b[0m\u001b[0;34m(\u001b[0m\u001b[0mtask\u001b[0m\u001b[0;34m,\u001b[0m \u001b[0mtask_outputs\u001b[0m\u001b[0;34m)\u001b[0m\u001b[0;34m\u001b[0m\u001b[0;34m\u001b[0m\u001b[0m\n\u001b[0;32m--> 781\u001b[0;31m                 task_output = task.execute_sync(\n\u001b[0m\u001b[1;32m    782\u001b[0m                     \u001b[0magent\u001b[0m\u001b[0;34m=\u001b[0m\u001b[0magent_to_use\u001b[0m\u001b[0;34m,\u001b[0m\u001b[0;34m\u001b[0m\u001b[0;34m\u001b[0m\u001b[0m\n\u001b[1;32m    783\u001b[0m                     \u001b[0mcontext\u001b[0m\u001b[0;34m=\u001b[0m\u001b[0mcontext\u001b[0m\u001b[0;34m,\u001b[0m\u001b[0;34m\u001b[0m\u001b[0;34m\u001b[0m\u001b[0m\n",
            "\u001b[0;32m/usr/local/lib/python3.11/dist-packages/crewai/task.py\u001b[0m in \u001b[0;36mexecute_sync\u001b[0;34m(self, agent, context, tools)\u001b[0m\n\u001b[1;32m    300\u001b[0m     ) -> TaskOutput:\n\u001b[1;32m    301\u001b[0m         \u001b[0;34m\"\"\"Execute the task synchronously.\"\"\"\u001b[0m\u001b[0;34m\u001b[0m\u001b[0;34m\u001b[0m\u001b[0m\n\u001b[0;32m--> 302\u001b[0;31m         \u001b[0;32mreturn\u001b[0m \u001b[0mself\u001b[0m\u001b[0;34m.\u001b[0m\u001b[0m_execute_core\u001b[0m\u001b[0;34m(\u001b[0m\u001b[0magent\u001b[0m\u001b[0;34m,\u001b[0m \u001b[0mcontext\u001b[0m\u001b[0;34m,\u001b[0m \u001b[0mtools\u001b[0m\u001b[0;34m)\u001b[0m\u001b[0;34m\u001b[0m\u001b[0;34m\u001b[0m\u001b[0m\n\u001b[0m\u001b[1;32m    303\u001b[0m \u001b[0;34m\u001b[0m\u001b[0m\n\u001b[1;32m    304\u001b[0m     \u001b[0;34m@\u001b[0m\u001b[0mproperty\u001b[0m\u001b[0;34m\u001b[0m\u001b[0;34m\u001b[0m\u001b[0m\n",
            "\u001b[0;32m/usr/local/lib/python3.11/dist-packages/crewai/task.py\u001b[0m in \u001b[0;36m_execute_core\u001b[0;34m(self, agent, context, tools)\u001b[0m\n\u001b[1;32m    364\u001b[0m         \u001b[0mself\u001b[0m\u001b[0;34m.\u001b[0m\u001b[0mprocessed_by_agents\u001b[0m\u001b[0;34m.\u001b[0m\u001b[0madd\u001b[0m\u001b[0;34m(\u001b[0m\u001b[0magent\u001b[0m\u001b[0;34m.\u001b[0m\u001b[0mrole\u001b[0m\u001b[0;34m)\u001b[0m\u001b[0;34m\u001b[0m\u001b[0;34m\u001b[0m\u001b[0m\n\u001b[1;32m    365\u001b[0m \u001b[0;34m\u001b[0m\u001b[0m\n\u001b[0;32m--> 366\u001b[0;31m         result = agent.execute_task(\n\u001b[0m\u001b[1;32m    367\u001b[0m             \u001b[0mtask\u001b[0m\u001b[0;34m=\u001b[0m\u001b[0mself\u001b[0m\u001b[0;34m,\u001b[0m\u001b[0;34m\u001b[0m\u001b[0;34m\u001b[0m\u001b[0m\n\u001b[1;32m    368\u001b[0m             \u001b[0mcontext\u001b[0m\u001b[0;34m=\u001b[0m\u001b[0mcontext\u001b[0m\u001b[0;34m,\u001b[0m\u001b[0;34m\u001b[0m\u001b[0;34m\u001b[0m\u001b[0m\n",
            "\u001b[0;32m/usr/local/lib/python3.11/dist-packages/crewai/agent.py\u001b[0m in \u001b[0;36mexecute_task\u001b[0;34m(self, task, context, tools)\u001b[0m\n\u001b[1;32m    252\u001b[0m             \u001b[0;32mif\u001b[0m \u001b[0me\u001b[0m\u001b[0;34m.\u001b[0m\u001b[0m__class__\u001b[0m\u001b[0;34m.\u001b[0m\u001b[0m__module__\u001b[0m\u001b[0;34m.\u001b[0m\u001b[0mstartswith\u001b[0m\u001b[0;34m(\u001b[0m\u001b[0;34m\"litellm\"\u001b[0m\u001b[0;34m)\u001b[0m\u001b[0;34m:\u001b[0m\u001b[0;34m\u001b[0m\u001b[0;34m\u001b[0m\u001b[0m\n\u001b[1;32m    253\u001b[0m                 \u001b[0;31m# Do not retry on litellm errors\u001b[0m\u001b[0;34m\u001b[0m\u001b[0;34m\u001b[0m\u001b[0m\n\u001b[0;32m--> 254\u001b[0;31m                 \u001b[0;32mraise\u001b[0m \u001b[0me\u001b[0m\u001b[0;34m\u001b[0m\u001b[0;34m\u001b[0m\u001b[0m\n\u001b[0m\u001b[1;32m    255\u001b[0m             \u001b[0mself\u001b[0m\u001b[0;34m.\u001b[0m\u001b[0m_times_executed\u001b[0m \u001b[0;34m+=\u001b[0m \u001b[0;36m1\u001b[0m\u001b[0;34m\u001b[0m\u001b[0;34m\u001b[0m\u001b[0m\n\u001b[1;32m    256\u001b[0m             \u001b[0;32mif\u001b[0m \u001b[0mself\u001b[0m\u001b[0;34m.\u001b[0m\u001b[0m_times_executed\u001b[0m \u001b[0;34m>\u001b[0m \u001b[0mself\u001b[0m\u001b[0;34m.\u001b[0m\u001b[0mmax_retry_limit\u001b[0m\u001b[0;34m:\u001b[0m\u001b[0;34m\u001b[0m\u001b[0;34m\u001b[0m\u001b[0m\n",
            "\u001b[0;32m/usr/local/lib/python3.11/dist-packages/crewai/agent.py\u001b[0m in \u001b[0;36mexecute_task\u001b[0;34m(self, task, context, tools)\u001b[0m\n\u001b[1;32m    241\u001b[0m \u001b[0;34m\u001b[0m\u001b[0m\n\u001b[1;32m    242\u001b[0m         \u001b[0;32mtry\u001b[0m\u001b[0;34m:\u001b[0m\u001b[0;34m\u001b[0m\u001b[0;34m\u001b[0m\u001b[0m\n\u001b[0;32m--> 243\u001b[0;31m             result = self.agent_executor.invoke(\n\u001b[0m\u001b[1;32m    244\u001b[0m                 {\n\u001b[1;32m    245\u001b[0m                     \u001b[0;34m\"input\"\u001b[0m\u001b[0;34m:\u001b[0m \u001b[0mtask_prompt\u001b[0m\u001b[0;34m,\u001b[0m\u001b[0;34m\u001b[0m\u001b[0;34m\u001b[0m\u001b[0m\n",
            "\u001b[0;32m/usr/local/lib/python3.11/dist-packages/crewai/agents/crew_agent_executor.py\u001b[0m in \u001b[0;36minvoke\u001b[0;34m(self, inputs)\u001b[0m\n\u001b[1;32m    110\u001b[0m             \u001b[0;32mif\u001b[0m \u001b[0me\u001b[0m\u001b[0;34m.\u001b[0m\u001b[0m__class__\u001b[0m\u001b[0;34m.\u001b[0m\u001b[0m__module__\u001b[0m\u001b[0;34m.\u001b[0m\u001b[0mstartswith\u001b[0m\u001b[0;34m(\u001b[0m\u001b[0;34m\"litellm\"\u001b[0m\u001b[0;34m)\u001b[0m\u001b[0;34m:\u001b[0m\u001b[0;34m\u001b[0m\u001b[0;34m\u001b[0m\u001b[0m\n\u001b[1;32m    111\u001b[0m                 \u001b[0;31m# Do not retry on litellm errors\u001b[0m\u001b[0;34m\u001b[0m\u001b[0;34m\u001b[0m\u001b[0m\n\u001b[0;32m--> 112\u001b[0;31m                 \u001b[0;32mraise\u001b[0m \u001b[0me\u001b[0m\u001b[0;34m\u001b[0m\u001b[0;34m\u001b[0m\u001b[0m\n\u001b[0m\u001b[1;32m    113\u001b[0m             \u001b[0;32melse\u001b[0m\u001b[0;34m:\u001b[0m\u001b[0;34m\u001b[0m\u001b[0;34m\u001b[0m\u001b[0m\n\u001b[1;32m    114\u001b[0m                 \u001b[0mself\u001b[0m\u001b[0;34m.\u001b[0m\u001b[0m_handle_unknown_error\u001b[0m\u001b[0;34m(\u001b[0m\u001b[0me\u001b[0m\u001b[0;34m)\u001b[0m\u001b[0;34m\u001b[0m\u001b[0;34m\u001b[0m\u001b[0m\n",
            "\u001b[0;32m/usr/local/lib/python3.11/dist-packages/crewai/agents/crew_agent_executor.py\u001b[0m in \u001b[0;36minvoke\u001b[0;34m(self, inputs)\u001b[0m\n\u001b[1;32m    100\u001b[0m \u001b[0;34m\u001b[0m\u001b[0m\n\u001b[1;32m    101\u001b[0m         \u001b[0;32mtry\u001b[0m\u001b[0;34m:\u001b[0m\u001b[0;34m\u001b[0m\u001b[0;34m\u001b[0m\u001b[0m\n\u001b[0;32m--> 102\u001b[0;31m             \u001b[0mformatted_answer\u001b[0m \u001b[0;34m=\u001b[0m \u001b[0mself\u001b[0m\u001b[0;34m.\u001b[0m\u001b[0m_invoke_loop\u001b[0m\u001b[0;34m(\u001b[0m\u001b[0;34m)\u001b[0m\u001b[0;34m\u001b[0m\u001b[0;34m\u001b[0m\u001b[0m\n\u001b[0m\u001b[1;32m    103\u001b[0m         \u001b[0;32mexcept\u001b[0m \u001b[0mAssertionError\u001b[0m\u001b[0;34m:\u001b[0m\u001b[0;34m\u001b[0m\u001b[0;34m\u001b[0m\u001b[0m\n\u001b[1;32m    104\u001b[0m             self._printer.print(\n",
            "\u001b[0;32m/usr/local/lib/python3.11/dist-packages/crewai/agents/crew_agent_executor.py\u001b[0m in \u001b[0;36m_invoke_loop\u001b[0;34m(self)\u001b[0m\n\u001b[1;32m    158\u001b[0m                 \u001b[0;32mif\u001b[0m \u001b[0me\u001b[0m\u001b[0;34m.\u001b[0m\u001b[0m__class__\u001b[0m\u001b[0;34m.\u001b[0m\u001b[0m__module__\u001b[0m\u001b[0;34m.\u001b[0m\u001b[0mstartswith\u001b[0m\u001b[0;34m(\u001b[0m\u001b[0;34m\"litellm\"\u001b[0m\u001b[0;34m)\u001b[0m\u001b[0;34m:\u001b[0m\u001b[0;34m\u001b[0m\u001b[0;34m\u001b[0m\u001b[0m\n\u001b[1;32m    159\u001b[0m                     \u001b[0;31m# Do not retry on litellm errors\u001b[0m\u001b[0;34m\u001b[0m\u001b[0;34m\u001b[0m\u001b[0m\n\u001b[0;32m--> 160\u001b[0;31m                     \u001b[0;32mraise\u001b[0m \u001b[0me\u001b[0m\u001b[0;34m\u001b[0m\u001b[0;34m\u001b[0m\u001b[0m\n\u001b[0m\u001b[1;32m    161\u001b[0m                 \u001b[0;32mif\u001b[0m \u001b[0mself\u001b[0m\u001b[0;34m.\u001b[0m\u001b[0m_is_context_length_exceeded\u001b[0m\u001b[0;34m(\u001b[0m\u001b[0me\u001b[0m\u001b[0;34m)\u001b[0m\u001b[0;34m:\u001b[0m\u001b[0;34m\u001b[0m\u001b[0;34m\u001b[0m\u001b[0m\n\u001b[1;32m    162\u001b[0m                     \u001b[0mself\u001b[0m\u001b[0;34m.\u001b[0m\u001b[0m_handle_context_length\u001b[0m\u001b[0;34m(\u001b[0m\u001b[0;34m)\u001b[0m\u001b[0;34m\u001b[0m\u001b[0;34m\u001b[0m\u001b[0m\n",
            "\u001b[0;32m/usr/local/lib/python3.11/dist-packages/crewai/agents/crew_agent_executor.py\u001b[0m in \u001b[0;36m_invoke_loop\u001b[0;34m(self)\u001b[0m\n\u001b[1;32m    138\u001b[0m                 \u001b[0mself\u001b[0m\u001b[0;34m.\u001b[0m\u001b[0m_enforce_rpm_limit\u001b[0m\u001b[0;34m(\u001b[0m\u001b[0;34m)\u001b[0m\u001b[0;34m\u001b[0m\u001b[0;34m\u001b[0m\u001b[0m\n\u001b[1;32m    139\u001b[0m \u001b[0;34m\u001b[0m\u001b[0m\n\u001b[0;32m--> 140\u001b[0;31m                 \u001b[0manswer\u001b[0m \u001b[0;34m=\u001b[0m \u001b[0mself\u001b[0m\u001b[0;34m.\u001b[0m\u001b[0m_get_llm_response\u001b[0m\u001b[0;34m(\u001b[0m\u001b[0;34m)\u001b[0m\u001b[0;34m\u001b[0m\u001b[0;34m\u001b[0m\u001b[0m\n\u001b[0m\u001b[1;32m    141\u001b[0m                 \u001b[0mformatted_answer\u001b[0m \u001b[0;34m=\u001b[0m \u001b[0mself\u001b[0m\u001b[0;34m.\u001b[0m\u001b[0m_process_llm_response\u001b[0m\u001b[0;34m(\u001b[0m\u001b[0manswer\u001b[0m\u001b[0;34m)\u001b[0m\u001b[0;34m\u001b[0m\u001b[0;34m\u001b[0m\u001b[0m\n\u001b[1;32m    142\u001b[0m \u001b[0;34m\u001b[0m\u001b[0m\n",
            "\u001b[0;32m/usr/local/lib/python3.11/dist-packages/crewai/agents/crew_agent_executor.py\u001b[0m in \u001b[0;36m_get_llm_response\u001b[0;34m(self)\u001b[0m\n\u001b[1;32m    208\u001b[0m                 \u001b[0mcolor\u001b[0m\u001b[0;34m=\u001b[0m\u001b[0;34m\"red\"\u001b[0m\u001b[0;34m,\u001b[0m\u001b[0;34m\u001b[0m\u001b[0;34m\u001b[0m\u001b[0m\n\u001b[1;32m    209\u001b[0m             )\n\u001b[0;32m--> 210\u001b[0;31m             \u001b[0;32mraise\u001b[0m \u001b[0me\u001b[0m\u001b[0;34m\u001b[0m\u001b[0;34m\u001b[0m\u001b[0m\n\u001b[0m\u001b[1;32m    211\u001b[0m \u001b[0;34m\u001b[0m\u001b[0m\n\u001b[1;32m    212\u001b[0m         \u001b[0;32mif\u001b[0m \u001b[0;32mnot\u001b[0m \u001b[0manswer\u001b[0m\u001b[0;34m:\u001b[0m\u001b[0;34m\u001b[0m\u001b[0;34m\u001b[0m\u001b[0m\n",
            "\u001b[0;32m/usr/local/lib/python3.11/dist-packages/crewai/agents/crew_agent_executor.py\u001b[0m in \u001b[0;36m_get_llm_response\u001b[0;34m(self)\u001b[0m\n\u001b[1;32m    199\u001b[0m         \u001b[0;34m\"\"\"Call the LLM and return the response, handling any invalid responses.\"\"\"\u001b[0m\u001b[0;34m\u001b[0m\u001b[0;34m\u001b[0m\u001b[0m\n\u001b[1;32m    200\u001b[0m         \u001b[0;32mtry\u001b[0m\u001b[0;34m:\u001b[0m\u001b[0;34m\u001b[0m\u001b[0;34m\u001b[0m\u001b[0m\n\u001b[0;32m--> 201\u001b[0;31m             answer = self.llm.call(\n\u001b[0m\u001b[1;32m    202\u001b[0m                 \u001b[0mself\u001b[0m\u001b[0;34m.\u001b[0m\u001b[0mmessages\u001b[0m\u001b[0;34m,\u001b[0m\u001b[0;34m\u001b[0m\u001b[0;34m\u001b[0m\u001b[0m\n\u001b[1;32m    203\u001b[0m                 \u001b[0mcallbacks\u001b[0m\u001b[0;34m=\u001b[0m\u001b[0mself\u001b[0m\u001b[0;34m.\u001b[0m\u001b[0mcallbacks\u001b[0m\u001b[0;34m,\u001b[0m\u001b[0;34m\u001b[0m\u001b[0;34m\u001b[0m\u001b[0m\n",
            "\u001b[0;32m/usr/local/lib/python3.11/dist-packages/crewai/llm.py\u001b[0m in \u001b[0;36mcall\u001b[0;34m(self, messages, tools, callbacks, available_functions)\u001b[0m\n\u001b[1;32m    289\u001b[0m \u001b[0;34m\u001b[0m\u001b[0m\n\u001b[1;32m    290\u001b[0m                 \u001b[0;31m# --- 2) Make the completion call\u001b[0m\u001b[0;34m\u001b[0m\u001b[0;34m\u001b[0m\u001b[0m\n\u001b[0;32m--> 291\u001b[0;31m                 \u001b[0mresponse\u001b[0m \u001b[0;34m=\u001b[0m \u001b[0mlitellm\u001b[0m\u001b[0;34m.\u001b[0m\u001b[0mcompletion\u001b[0m\u001b[0;34m(\u001b[0m\u001b[0;34m**\u001b[0m\u001b[0mparams\u001b[0m\u001b[0;34m)\u001b[0m\u001b[0;34m\u001b[0m\u001b[0;34m\u001b[0m\u001b[0m\n\u001b[0m\u001b[1;32m    292\u001b[0m                 response_message = cast(Choices, cast(ModelResponse, response).choices)[\n\u001b[1;32m    293\u001b[0m                     \u001b[0;36m0\u001b[0m\u001b[0;34m\u001b[0m\u001b[0;34m\u001b[0m\u001b[0m\n",
            "\u001b[0;32m/usr/local/lib/python3.11/dist-packages/litellm/utils.py\u001b[0m in \u001b[0;36mwrapper\u001b[0;34m(*args, **kwargs)\u001b[0m\n\u001b[1;32m   1152\u001b[0m                     \u001b[0me\u001b[0m\u001b[0;34m,\u001b[0m \u001b[0mtraceback_exception\u001b[0m\u001b[0;34m,\u001b[0m \u001b[0mstart_time\u001b[0m\u001b[0;34m,\u001b[0m \u001b[0mend_time\u001b[0m\u001b[0;34m\u001b[0m\u001b[0;34m\u001b[0m\u001b[0m\n\u001b[1;32m   1153\u001b[0m                 )  # DO NOT MAKE THREADED - router retry fallback relies on this!\n\u001b[0;32m-> 1154\u001b[0;31m             \u001b[0;32mraise\u001b[0m \u001b[0me\u001b[0m\u001b[0;34m\u001b[0m\u001b[0;34m\u001b[0m\u001b[0m\n\u001b[0m\u001b[1;32m   1155\u001b[0m \u001b[0;34m\u001b[0m\u001b[0m\n\u001b[1;32m   1156\u001b[0m     \u001b[0;34m@\u001b[0m\u001b[0mwraps\u001b[0m\u001b[0;34m(\u001b[0m\u001b[0moriginal_function\u001b[0m\u001b[0;34m)\u001b[0m\u001b[0;34m\u001b[0m\u001b[0;34m\u001b[0m\u001b[0m\n",
            "\u001b[0;32m/usr/local/lib/python3.11/dist-packages/litellm/utils.py\u001b[0m in \u001b[0;36mwrapper\u001b[0;34m(*args, **kwargs)\u001b[0m\n\u001b[1;32m   1030\u001b[0m                     \u001b[0mprint_verbose\u001b[0m\u001b[0;34m(\u001b[0m\u001b[0;34mf\"Error while checking max token limit: {str(e)}\"\u001b[0m\u001b[0;34m)\u001b[0m\u001b[0;34m\u001b[0m\u001b[0;34m\u001b[0m\u001b[0m\n\u001b[1;32m   1031\u001b[0m             \u001b[0;31m# MODEL CALL\u001b[0m\u001b[0;34m\u001b[0m\u001b[0;34m\u001b[0m\u001b[0m\n\u001b[0;32m-> 1032\u001b[0;31m             \u001b[0mresult\u001b[0m \u001b[0;34m=\u001b[0m \u001b[0moriginal_function\u001b[0m\u001b[0;34m(\u001b[0m\u001b[0;34m*\u001b[0m\u001b[0margs\u001b[0m\u001b[0;34m,\u001b[0m \u001b[0;34m**\u001b[0m\u001b[0mkwargs\u001b[0m\u001b[0;34m)\u001b[0m\u001b[0;34m\u001b[0m\u001b[0;34m\u001b[0m\u001b[0m\n\u001b[0m\u001b[1;32m   1033\u001b[0m             \u001b[0mend_time\u001b[0m \u001b[0;34m=\u001b[0m \u001b[0mdatetime\u001b[0m\u001b[0;34m.\u001b[0m\u001b[0mdatetime\u001b[0m\u001b[0;34m.\u001b[0m\u001b[0mnow\u001b[0m\u001b[0;34m(\u001b[0m\u001b[0;34m)\u001b[0m\u001b[0;34m\u001b[0m\u001b[0;34m\u001b[0m\u001b[0m\n\u001b[1;32m   1034\u001b[0m             \u001b[0;32mif\u001b[0m \u001b[0;34m\"stream\"\u001b[0m \u001b[0;32min\u001b[0m \u001b[0mkwargs\u001b[0m \u001b[0;32mand\u001b[0m \u001b[0mkwargs\u001b[0m\u001b[0;34m[\u001b[0m\u001b[0;34m\"stream\"\u001b[0m\u001b[0;34m]\u001b[0m \u001b[0;32mis\u001b[0m \u001b[0;32mTrue\u001b[0m\u001b[0;34m:\u001b[0m\u001b[0;34m\u001b[0m\u001b[0;34m\u001b[0m\u001b[0m\n",
            "\u001b[0;32m/usr/local/lib/python3.11/dist-packages/litellm/main.py\u001b[0m in \u001b[0;36mcompletion\u001b[0;34m(model, messages, timeout, temperature, top_p, n, stream, stream_options, stop, max_completion_tokens, max_tokens, modalities, prediction, audio, presence_penalty, frequency_penalty, logit_bias, user, reasoning_effort, response_format, seed, tools, tool_choice, logprobs, top_logprobs, parallel_tool_calls, deployment_id, extra_headers, functions, function_call, base_url, api_version, api_key, model_list, **kwargs)\u001b[0m\n\u001b[1;32m   3066\u001b[0m     \u001b[0;32mexcept\u001b[0m \u001b[0mException\u001b[0m \u001b[0;32mas\u001b[0m \u001b[0me\u001b[0m\u001b[0;34m:\u001b[0m\u001b[0;34m\u001b[0m\u001b[0;34m\u001b[0m\u001b[0m\n\u001b[1;32m   3067\u001b[0m         \u001b[0;31m## Map to OpenAI Exception\u001b[0m\u001b[0;34m\u001b[0m\u001b[0;34m\u001b[0m\u001b[0m\n\u001b[0;32m-> 3068\u001b[0;31m         raise exception_type(\n\u001b[0m\u001b[1;32m   3069\u001b[0m             \u001b[0mmodel\u001b[0m\u001b[0;34m=\u001b[0m\u001b[0mmodel\u001b[0m\u001b[0;34m,\u001b[0m\u001b[0;34m\u001b[0m\u001b[0;34m\u001b[0m\u001b[0m\n\u001b[1;32m   3070\u001b[0m             \u001b[0mcustom_llm_provider\u001b[0m\u001b[0;34m=\u001b[0m\u001b[0mcustom_llm_provider\u001b[0m\u001b[0;34m,\u001b[0m\u001b[0;34m\u001b[0m\u001b[0;34m\u001b[0m\u001b[0m\n",
            "\u001b[0;32m/usr/local/lib/python3.11/dist-packages/litellm/litellm_core_utils/exception_mapping_utils.py\u001b[0m in \u001b[0;36mexception_type\u001b[0;34m(model, original_exception, custom_llm_provider, completion_kwargs, extra_kwargs)\u001b[0m\n\u001b[1;32m   2199\u001b[0m         \u001b[0;32mif\u001b[0m \u001b[0mexception_mapping_worked\u001b[0m\u001b[0;34m:\u001b[0m\u001b[0;34m\u001b[0m\u001b[0;34m\u001b[0m\u001b[0m\n\u001b[1;32m   2200\u001b[0m             \u001b[0msetattr\u001b[0m\u001b[0;34m(\u001b[0m\u001b[0me\u001b[0m\u001b[0;34m,\u001b[0m \u001b[0;34m\"litellm_response_headers\"\u001b[0m\u001b[0;34m,\u001b[0m \u001b[0mlitellm_response_headers\u001b[0m\u001b[0;34m)\u001b[0m\u001b[0;34m\u001b[0m\u001b[0;34m\u001b[0m\u001b[0m\n\u001b[0;32m-> 2201\u001b[0;31m             \u001b[0;32mraise\u001b[0m \u001b[0me\u001b[0m\u001b[0;34m\u001b[0m\u001b[0;34m\u001b[0m\u001b[0m\n\u001b[0m\u001b[1;32m   2202\u001b[0m         \u001b[0;32melse\u001b[0m\u001b[0;34m:\u001b[0m\u001b[0;34m\u001b[0m\u001b[0;34m\u001b[0m\u001b[0m\n\u001b[1;32m   2203\u001b[0m             \u001b[0;32mfor\u001b[0m \u001b[0merror_type\u001b[0m \u001b[0;32min\u001b[0m \u001b[0mlitellm\u001b[0m\u001b[0;34m.\u001b[0m\u001b[0mLITELLM_EXCEPTION_TYPES\u001b[0m\u001b[0;34m:\u001b[0m\u001b[0;34m\u001b[0m\u001b[0;34m\u001b[0m\u001b[0m\n",
            "\u001b[0;32m/usr/local/lib/python3.11/dist-packages/litellm/litellm_core_utils/exception_mapping_utils.py\u001b[0m in \u001b[0;36mexception_type\u001b[0;34m(model, original_exception, custom_llm_provider, completion_kwargs, extra_kwargs)\u001b[0m\n\u001b[1;32m    423\u001b[0m                     \u001b[0;32melif\u001b[0m \u001b[0moriginal_exception\u001b[0m\u001b[0;34m.\u001b[0m\u001b[0mstatus_code\u001b[0m \u001b[0;34m==\u001b[0m \u001b[0;36m429\u001b[0m\u001b[0;34m:\u001b[0m\u001b[0;34m\u001b[0m\u001b[0;34m\u001b[0m\u001b[0m\n\u001b[1;32m    424\u001b[0m                         \u001b[0mexception_mapping_worked\u001b[0m \u001b[0;34m=\u001b[0m \u001b[0;32mTrue\u001b[0m\u001b[0;34m\u001b[0m\u001b[0;34m\u001b[0m\u001b[0m\n\u001b[0;32m--> 425\u001b[0;31m                         raise RateLimitError(\n\u001b[0m\u001b[1;32m    426\u001b[0m                             \u001b[0mmessage\u001b[0m\u001b[0;34m=\u001b[0m\u001b[0;34mf\"RateLimitError: {exception_provider} - {message}\"\u001b[0m\u001b[0;34m,\u001b[0m\u001b[0;34m\u001b[0m\u001b[0;34m\u001b[0m\u001b[0m\n\u001b[1;32m    427\u001b[0m                             \u001b[0mmodel\u001b[0m\u001b[0;34m=\u001b[0m\u001b[0mmodel\u001b[0m\u001b[0;34m,\u001b[0m\u001b[0;34m\u001b[0m\u001b[0;34m\u001b[0m\u001b[0m\n",
            "\u001b[0;31mRateLimitError\u001b[0m: litellm.RateLimitError: RateLimitError: GroqException - {\"error\":{\"message\":\"Rate limit reached for model `llama-3.1-8b-instant` in organization `org_01jnmhpvvbenwrkhevabm1d2g0` service tier `on_demand` on tokens per minute (TPM): Limit 6000, Used 4922, Requested 2967. Please try again in 18.881s. Need more tokens? Upgrade to Dev Tier today at https://console.groq.com/settings/billing\",\"type\":\"tokens\",\"code\":\"rate_limit_exceeded\"}}\n"
          ]
        }
      ]
    },
    {
      "cell_type": "code",
      "source": [
        "import yaml\n",
        "from crewai import Agent, Task, Crew\n",
        "from crewai_tools import SerperDevTool, ScrapeWebsiteTool, WebsiteSearchTool\n",
        "\n",
        "\n",
        "# Define Groq LLM model\n",
        "groq_llm = \"llama-3.1-8b-instant\"\n",
        "\n",
        "# Define file paths for YAML configurations\n",
        "files = {\n",
        "    'agents': '/content/drive/MyDrive/Colab Notebooks/OSINT_agentic/config/agents.yaml',\n",
        "    'tasks': '/content/drive/MyDrive/Colab Notebooks/OSINT_agentic/config/tasks.yaml'\n",
        "}\n",
        "\n",
        "# Load configurations from YAML files\n",
        "configs = {}\n",
        "for config_type, file_path in files.items():\n",
        "    with open(file_path, 'r') as file:\n",
        "        configs[config_type] = yaml.safe_load(file)\n",
        "\n",
        "# Assign loaded configurations to specific variables\n",
        "agents_config = configs['agents']\n",
        "tasks_config = configs['tasks']\n",
        "\n",
        "# Creating Agents\n",
        "osint_collector_agent = Agent(\n",
        "    config=agents_config['osint_collector_agent'],\n",
        "    tools=[SerperDevTool(), ScrapeWebsiteTool()],\n",
        "    llm=groq_llm,\n",
        ")\n",
        "\n",
        "threat_analyst_agent = Agent(\n",
        "    config=agents_config['threat_analyst_agent'],\n",
        "    tools=[SerperDevTool(), WebsiteSearchTool(\n",
        "            adapter=EmbedchainAdapter(config=AppConfig(api_key=grq_api))  # Providing Groq API key to EmbedchainAdapter\n",
        "        )],\n",
        "    llm=groq_llm,\n",
        ")\n",
        "\n",
        "malware_categorizer_agent = Agent(\n",
        "    config=agents_config['malware_categorizer_agent'],\n",
        "    tools=[WebsiteSearchTool(), ScrapeWebsiteTool()],\n",
        "    llm=groq_llm,\n",
        ")\n",
        "\n",
        "research_advisor_agent = Agent(\n",
        "    config=agents_config['research_advisor_agent'],\n",
        "    tools=[],\n",
        "    llm=groq_llm,\n",
        ")\n",
        "\n",
        "# Creating Tasks\n",
        "search_malware_intelligence_task = Task(\n",
        "    config=tasks_config['search_malware_intelligence'],\n",
        "    agent=osint_collector_agent\n",
        ")\n",
        "\n",
        "analyze_malware_data_task = Task(\n",
        "    config=tasks_config['analyze_malware_data'],\n",
        "    agent=threat_analyst_agent\n",
        ")\n",
        "\n",
        "classify_malware_type_task = Task(\n",
        "    config=tasks_config['classify_malware_type'],\n",
        "    agent=malware_categorizer_agent,\n",
        "    context=[search_malware_intelligence_task, analyze_malware_data_task]\n",
        ")\n",
        "\n",
        "generate_research_summary_task = Task(\n",
        "    config=tasks_config['generate_research_summary'],\n",
        "    agent=research_advisor_agent,\n",
        "    context=[search_malware_intelligence_task, analyze_malware_data_task, classify_malware_type_task],\n",
        "    output_pydantic=MalwareAnalysisOutput\n",
        ")\n",
        "\n",
        "# Creating Crew\n",
        "malware_analysis_crew = Crew(\n",
        "    agents=[\n",
        "        osint_collector_agent,\n",
        "        threat_analyst_agent,\n",
        "        malware_categorizer_agent,\n",
        "        research_advisor_agent\n",
        "    ],\n",
        "    tasks=[\n",
        "        search_malware_intelligence_task,\n",
        "        analyze_malware_data_task,\n",
        "        classify_malware_type_task,\n",
        "        generate_research_summary_task\n",
        "    ],\n",
        "    verbose=True\n",
        ")\n",
        "\n",
        "# Run the crew\n",
        "if __name__ == \"__main__\":\n",
        "    malware_analysis_crew.kickoff()\n"
      ],
      "metadata": {
        "id": "grVqfp3aXWRb",
        "colab": {
          "base_uri": "https://localhost:8080/",
          "height": 383
        },
        "outputId": "2ee26933-2386-46c6-c09d-08f3a77caf65"
      },
      "execution_count": 8,
      "outputs": [
        {
          "output_type": "error",
          "ename": "ImportError",
          "evalue": "cannot import name 'EmbedchainAdapter' from 'crewai_tools' (/usr/local/lib/python3.11/dist-packages/crewai_tools/__init__.py)",
          "traceback": [
            "\u001b[0;31m---------------------------------------------------------------------------\u001b[0m",
            "\u001b[0;31mImportError\u001b[0m                               Traceback (most recent call last)",
            "\u001b[0;32m<ipython-input-8-783ac3fb0c4e>\u001b[0m in \u001b[0;36m<cell line: 0>\u001b[0;34m()\u001b[0m\n\u001b[1;32m      2\u001b[0m \u001b[0;32mfrom\u001b[0m \u001b[0mcrewai\u001b[0m \u001b[0;32mimport\u001b[0m \u001b[0mAgent\u001b[0m\u001b[0;34m,\u001b[0m \u001b[0mTask\u001b[0m\u001b[0;34m,\u001b[0m \u001b[0mCrew\u001b[0m\u001b[0;34m\u001b[0m\u001b[0;34m\u001b[0m\u001b[0m\n\u001b[1;32m      3\u001b[0m \u001b[0;32mfrom\u001b[0m \u001b[0mcrewai_tools\u001b[0m \u001b[0;32mimport\u001b[0m \u001b[0mSerperDevTool\u001b[0m\u001b[0;34m,\u001b[0m \u001b[0mScrapeWebsiteTool\u001b[0m\u001b[0;34m\u001b[0m\u001b[0;34m\u001b[0m\u001b[0m\n\u001b[0;32m----> 4\u001b[0;31m \u001b[0;32mfrom\u001b[0m \u001b[0mcrewai_tools\u001b[0m \u001b[0;32mimport\u001b[0m \u001b[0mWebsiteSearchTool\u001b[0m\u001b[0;34m,\u001b[0m \u001b[0mEmbedchainAdapter\u001b[0m\u001b[0;34m\u001b[0m\u001b[0;34m\u001b[0m\u001b[0m\n\u001b[0m\u001b[1;32m      5\u001b[0m \u001b[0;32mfrom\u001b[0m \u001b[0membedchain\u001b[0m\u001b[0;34m.\u001b[0m\u001b[0mconfig\u001b[0m \u001b[0;32mimport\u001b[0m \u001b[0mAppConfig\u001b[0m\u001b[0;34m\u001b[0m\u001b[0;34m\u001b[0m\u001b[0m\n\u001b[1;32m      6\u001b[0m \u001b[0;34m\u001b[0m\u001b[0m\n",
            "\u001b[0;31mImportError\u001b[0m: cannot import name 'EmbedchainAdapter' from 'crewai_tools' (/usr/local/lib/python3.11/dist-packages/crewai_tools/__init__.py)",
            "",
            "\u001b[0;31m---------------------------------------------------------------------------\u001b[0;32m\nNOTE: If your import is failing due to a missing package, you can\nmanually install dependencies using either !pip or !apt.\n\nTo view examples of installing some common dependencies, click the\n\"Open Examples\" button below.\n\u001b[0;31m---------------------------------------------------------------------------\u001b[0m\n"
          ],
          "errorDetails": {
            "actions": [
              {
                "action": "open_url",
                "actionText": "Open Examples",
                "url": "/notebooks/snippets/importing_libraries.ipynb"
              }
            ]
          }
        }
      ]
    },
    {
      "cell_type": "code",
      "source": [
        "import os\n",
        "from crewai_tools import WebsiteSearchTool, EmbedchainAdapter\n",
        "from embedchain.config import AppConfig\n",
        "\n",
        "# ... (rest of your imports and code) ...\n",
        "\n",
        "\n",
        "threat_analyst_agent = Agent(\n",
        "    config=agents_config['threat_analyst_agent'],\n",
        "    tools=[\n",
        "        SerperDevTool(),\n",
        "        WebsiteSearchTool(\n",
        "            adapter=EmbedchainAdapter(config=AppConfig(api_key=os.environ.get(\"GROQ_API_KEY\")))  # Providing Groq API key to EmbedchainAdapter\n",
        "        )\n",
        "    ],\n",
        "    llm=groq_llm,\n",
        ")\n",
        "\n",
        "malware_categorizer_agent = Agent(\n",
        "    config=agents_config['malware_categorizer_agent'],\n",
        "    tools=[\n",
        "        WebsiteSearchTool(\n",
        "            adapter=EmbedchainAdapter(config=AppConfig(api_key=os.environ.get(\"GROQ_API_KEY\")))  # Providing Groq API key to EmbedchainAdapter\n",
        "        ),\n",
        "        ScrapeWebsiteTool()\n",
        "    ],\n",
        "    llm=groq_llm,\n",
        ")\n",
        "\n",
        "# ... (rest of your code) ..."
      ],
      "metadata": {
        "id": "J5K0fIX5RJYB"
      },
      "execution_count": null,
      "outputs": []
    }
  ]
}